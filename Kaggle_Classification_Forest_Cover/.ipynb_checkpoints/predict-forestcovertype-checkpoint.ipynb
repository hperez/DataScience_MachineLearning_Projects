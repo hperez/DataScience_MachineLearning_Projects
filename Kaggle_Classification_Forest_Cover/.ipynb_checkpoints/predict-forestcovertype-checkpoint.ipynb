{
 "cells": [
  {
   "cell_type": "code",
   "execution_count": 1,
   "metadata": {
    "_cell_guid": "7902b864-4dc2-4f2a-a486-8b2ec89597c3",
    "_uuid": "d124c735-2692-46bc-abe5-83e8339b2a95",
    "execution": {
     "iopub.execute_input": "2021-05-25T04:44:06.704462Z",
     "iopub.status.busy": "2021-05-25T04:44:06.70388Z",
     "iopub.status.idle": "2021-05-25T04:44:07.722672Z",
     "shell.execute_reply": "2021-05-25T04:44:07.72162Z",
     "shell.execute_reply.started": "2021-05-25T04:44:06.704374Z"
    },
    "jupyter": {
     "outputs_hidden": false
    }
   },
   "outputs": [],
   "source": [
    "# Import libraries\n",
    "\n",
    "import os\n",
    "\n",
    "import numpy as np\n",
    "import pandas as pd\n",
    "\n",
    "import matplotlib.pyplot as plt\n",
    "import seaborn as sns\n",
    "\n",
    "from sklearn.model_selection import train_test_split\n",
    "from sklearn.svm import SVC"
   ]
  },
  {
   "cell_type": "code",
   "execution_count": 2,
   "metadata": {
    "_cell_guid": "e2297bde-e291-4dd1-939a-b9a3d9315c2d",
    "_uuid": "ddcb6c29-5819-409a-89c3-2b2ee21c533d",
    "execution": {
     "iopub.execute_input": "2021-05-25T04:44:09.658913Z",
     "iopub.status.busy": "2021-05-25T04:44:09.65858Z",
     "iopub.status.idle": "2021-05-25T04:44:09.671146Z",
     "shell.execute_reply": "2021-05-25T04:44:09.670258Z",
     "shell.execute_reply.started": "2021-05-25T04:44:09.658886Z"
    },
    "jupyter": {
     "outputs_hidden": false
    }
   },
   "outputs": [],
   "source": [
    "# Get data file location\n",
    "for dirname, _, filenames in os.walk('/kaggle/input'):\n",
    "    for filename in filenames:\n",
    "        print(os.path.join(dirname, filename))"
   ]
  },
  {
   "cell_type": "code",
   "execution_count": null,
   "metadata": {
    "_cell_guid": "30abdad1-9a28-4791-9b6c-a2f8d340df43",
    "_uuid": "919c6fe4-fa44-4bdc-849f-2fc050054ad8",
    "execution": {
     "iopub.execute_input": "2021-05-25T04:44:10.899818Z",
     "iopub.status.busy": "2021-05-25T04:44:10.899507Z",
     "iopub.status.idle": "2021-05-25T04:44:13.565909Z",
     "shell.execute_reply": "2021-05-25T04:44:13.56496Z",
     "shell.execute_reply.started": "2021-05-25T04:44:10.899791Z"
    },
    "jupyter": {
     "outputs_hidden": false
    }
   },
   "outputs": [],
   "source": [
    "# Input data      \n",
    "pd.set_option('display.max_columns', 100) # We would like to display all the columns\n",
    "data_raw = pd.read_csv(\"/kaggle/input/forest-cover-type-dataset/covtype.csv\")"
   ]
  },
  {
   "cell_type": "markdown",
   "metadata": {
    "_cell_guid": "8a3094a8-0126-4ab5-9d44-d8e302b60c99",
    "_uuid": "343b9a61-14d2-4789-8753-70a967b8d78a"
   },
   "source": [
    "### Data Exploration"
   ]
  },
  {
   "cell_type": "code",
   "execution_count": null,
   "metadata": {
    "_cell_guid": "17cb5739-1b90-450d-9054-3154bd71a387",
    "_uuid": "9976ea01-71f1-4109-896e-5ed3dd2db6cc",
    "execution": {
     "iopub.execute_input": "2021-05-25T04:44:15.246885Z",
     "iopub.status.busy": "2021-05-25T04:44:15.246582Z",
     "iopub.status.idle": "2021-05-25T04:44:15.254959Z",
     "shell.execute_reply": "2021-05-25T04:44:15.253811Z",
     "shell.execute_reply.started": "2021-05-25T04:44:15.246858Z"
    },
    "jupyter": {
     "outputs_hidden": false
    }
   },
   "outputs": [],
   "source": [
    "data_raw.shape"
   ]
  },
  {
   "cell_type": "code",
   "execution_count": null,
   "metadata": {
    "_cell_guid": "29a35ab7-8f9f-43cb-88be-06d21ab6d5c4",
    "_uuid": "d3cb019e-5ce6-4c1d-b36c-78ab737328e5",
    "execution": {
     "iopub.execute_input": "2021-05-25T04:44:16.368752Z",
     "iopub.status.busy": "2021-05-25T04:44:16.368436Z",
     "iopub.status.idle": "2021-05-25T04:44:17.551209Z",
     "shell.execute_reply": "2021-05-25T04:44:17.550332Z",
     "shell.execute_reply.started": "2021-05-25T04:44:16.368725Z"
    },
    "jupyter": {
     "outputs_hidden": false
    }
   },
   "outputs": [],
   "source": [
    "data_raw_describe = data_raw.describe()\n",
    "data_raw_describe"
   ]
  },
  {
   "cell_type": "code",
   "execution_count": null,
   "metadata": {
    "_cell_guid": "cac2b9b9-f373-41c5-a96b-7c3284229a0b",
    "_uuid": "d1b1ef48-d150-453f-a9e6-a82417f908fe",
    "execution": {
     "iopub.execute_input": "2021-05-25T04:44:19.127209Z",
     "iopub.status.busy": "2021-05-25T04:44:19.126863Z",
     "iopub.status.idle": "2021-05-25T04:44:19.167006Z",
     "shell.execute_reply": "2021-05-25T04:44:19.166152Z",
     "shell.execute_reply.started": "2021-05-25T04:44:19.127177Z"
    },
    "jupyter": {
     "outputs_hidden": false
    }
   },
   "outputs": [],
   "source": [
    "data_raw.head(20)"
   ]
  },
  {
   "cell_type": "markdown",
   "metadata": {
    "_cell_guid": "dbdcb681-d38d-44e5-8d05-ee7c06763db5",
    "_uuid": "fc5e6b7d-a740-4c0f-94f5-b0371ca50aa1"
   },
   "source": [
    "#### A. Missing values"
   ]
  },
  {
   "cell_type": "code",
   "execution_count": null,
   "metadata": {
    "_cell_guid": "1f9c0592-7e0f-4dd8-9dbf-fe22af79d326",
    "_uuid": "499e2f44-68c7-473a-b16c-18ac07a00271",
    "execution": {
     "iopub.execute_input": "2021-05-25T04:44:21.471332Z",
     "iopub.status.busy": "2021-05-25T04:44:21.470997Z",
     "iopub.status.idle": "2021-05-25T04:44:21.491642Z",
     "shell.execute_reply": "2021-05-25T04:44:21.490739Z",
     "shell.execute_reply.started": "2021-05-25T04:44:21.471303Z"
    },
    "jupyter": {
     "outputs_hidden": false
    }
   },
   "outputs": [],
   "source": [
    "data_raw.isnull().any()"
   ]
  },
  {
   "cell_type": "markdown",
   "metadata": {
    "_cell_guid": "ac9a3f22-ec56-430c-a4fd-9f6fc6df6dfd",
    "_uuid": "5f6d47ee-9afc-4810-9341-c2754122a521"
   },
   "source": [
    "No missing values present in the dataset!"
   ]
  },
  {
   "cell_type": "markdown",
   "metadata": {
    "_cell_guid": "19df0e44-bc98-4099-98d9-48fb828640af",
    "_uuid": "5006f483-0fc8-4067-942e-8df4b8de8e6a"
   },
   "source": [
    "#### B. Attribute types"
   ]
  },
  {
   "cell_type": "code",
   "execution_count": null,
   "metadata": {
    "_cell_guid": "fadabe2d-199a-429c-9067-67b651bba0ba",
    "_uuid": "b127caaa-fac9-4fa2-9a06-1c893d63d344",
    "execution": {
     "iopub.execute_input": "2021-05-25T04:44:25.438033Z",
     "iopub.status.busy": "2021-05-25T04:44:25.437722Z",
     "iopub.status.idle": "2021-05-25T04:44:25.444014Z",
     "shell.execute_reply": "2021-05-25T04:44:25.442994Z",
     "shell.execute_reply.started": "2021-05-25T04:44:25.438004Z"
    },
    "jupyter": {
     "outputs_hidden": false
    }
   },
   "outputs": [],
   "source": [
    "# Understanding individual columns\n",
    "# Also if possible, categorize columns as Continuous or Categorical\n",
    "\n",
    "data_raw.columns"
   ]
  },
  {
   "cell_type": "code",
   "execution_count": null,
   "metadata": {
    "_cell_guid": "68587217-8dec-4710-8404-168710a3cd5d",
    "_uuid": "419227ae-43a6-4512-81c0-9ff87a45f983",
    "execution": {
     "iopub.execute_input": "2021-05-25T04:44:26.40456Z",
     "iopub.status.busy": "2021-05-25T04:44:26.404223Z",
     "iopub.status.idle": "2021-05-25T04:44:26.42986Z",
     "shell.execute_reply": "2021-05-25T04:44:26.429085Z",
     "shell.execute_reply.started": "2021-05-25T04:44:26.404532Z"
    },
    "jupyter": {
     "outputs_hidden": false
    }
   },
   "outputs": [],
   "source": [
    "data_raw.Elevation.unique() # Continuous\n",
    "data_raw.Aspect.unique() # Continuous\n",
    "data_raw.Slope.unique() # Continuous"
   ]
  },
  {
   "cell_type": "code",
   "execution_count": null,
   "metadata": {
    "_cell_guid": "4bc28a5a-52e3-4406-b22a-e6bea959ace1",
    "_uuid": "01ed78be-1713-43e9-937d-30a9dd2654cd",
    "execution": {
     "iopub.execute_input": "2021-05-25T04:44:27.164862Z",
     "iopub.status.busy": "2021-05-25T04:44:27.164534Z",
     "iopub.status.idle": "2021-05-25T04:44:27.196933Z",
     "shell.execute_reply": "2021-05-25T04:44:27.196257Z",
     "shell.execute_reply.started": "2021-05-25T04:44:27.164831Z"
    },
    "jupyter": {
     "outputs_hidden": false
    }
   },
   "outputs": [],
   "source": [
    "data_raw.iloc[:, 10:].head(20)"
   ]
  },
  {
   "cell_type": "code",
   "execution_count": null,
   "metadata": {
    "_cell_guid": "5cd39a09-2585-4cc7-9b3e-5c663d599753",
    "_uuid": "d7061241-615c-4bbe-a740-b9963746af7a",
    "execution": {
     "iopub.execute_input": "2021-05-25T04:44:27.92123Z",
     "iopub.status.busy": "2021-05-25T04:44:27.920681Z",
     "iopub.status.idle": "2021-05-25T04:44:27.929232Z",
     "shell.execute_reply": "2021-05-25T04:44:27.928533Z",
     "shell.execute_reply.started": "2021-05-25T04:44:27.921197Z"
    },
    "jupyter": {
     "outputs_hidden": false
    }
   },
   "outputs": [],
   "source": [
    "data_raw.Soil_Type1.unique()"
   ]
  },
  {
   "cell_type": "markdown",
   "metadata": {
    "_cell_guid": "4c4c8969-0c24-41e9-9dbf-4aa9cdbbc6f3",
    "_uuid": "0b1256f9-20e6-4914-bec7-256feed2a543",
    "execution": {
     "iopub.execute_input": "2021-05-21T04:31:35.329807Z",
     "iopub.status.busy": "2021-05-21T04:31:35.329515Z",
     "iopub.status.idle": "2021-05-21T04:31:35.333672Z",
     "shell.execute_reply": "2021-05-21T04:31:35.332447Z",
     "shell.execute_reply.started": "2021-05-21T04:31:35.329779Z"
    }
   },
   "source": [
    "**Continuous:**  \n",
    "Elevation', 'Aspect', 'Slope', 'Horizontal_Distance_To_Hydrology',  \n",
    "'Vertical_Distance_To_Hydrology', 'Horizontal_Distance_To_Roadways',  \n",
    "'Hillshade_9am', 'Hillshade_Noon', 'Hillshade_3pm',  \n",
    "'Horizontal_Distance_To_Fire_Points'  \n",
    "\n",
    "**Categorical:**  \n",
    "'Wilderness_Area1', 'Wilderness_Area2', 'Wilderness_Area3', 'Wilderness_Area4'  \n",
    "'Soil_Type'(1 to 40),  \n",
    "Cover_Type\n",
    "\n",
    "In order to determine the type of attributes, we looked at sample rows,  \n",
    "descriptive statistics (describe) and unique values."
   ]
  },
  {
   "cell_type": "markdown",
   "metadata": {
    "_cell_guid": "1a860359-3c06-43d9-88c3-7dcf0c4f87c6",
    "_uuid": "595ed2bf-fffd-49c0-9baf-291f605ebd43"
   },
   "source": [
    "### Model"
   ]
  },
  {
   "cell_type": "code",
   "execution_count": null,
   "metadata": {
    "_cell_guid": "7f059859-6a91-4364-99c7-378849cce8f1",
    "_uuid": "e9323bc6-f551-4e2e-a221-bfd582a396ad",
    "execution": {
     "iopub.execute_input": "2021-05-25T04:44:32.431651Z",
     "iopub.status.busy": "2021-05-25T04:44:32.431068Z",
     "iopub.status.idle": "2021-05-25T04:44:32.437578Z",
     "shell.execute_reply": "2021-05-25T04:44:32.436462Z",
     "shell.execute_reply.started": "2021-05-25T04:44:32.431616Z"
    },
    "jupyter": {
     "outputs_hidden": false
    }
   },
   "outputs": [],
   "source": [
    "# Separate out Independent and dependent variables\n",
    "X = data_raw.iloc[:, :-1]\n",
    "y = data_raw.iloc[:, -1]\n",
    "X.shape"
   ]
  },
  {
   "cell_type": "code",
   "execution_count": null,
   "metadata": {
    "_cell_guid": "e07e2a30-f9d6-4883-be54-e4cb1a2d658a",
    "_uuid": "68ca7d8f-d191-4e59-b751-32c817e8278c",
    "execution": {
     "iopub.execute_input": "2021-05-25T04:44:34.827263Z",
     "iopub.status.busy": "2021-05-25T04:44:34.826925Z",
     "iopub.status.idle": "2021-05-25T04:44:35.199761Z",
     "shell.execute_reply": "2021-05-25T04:44:35.198898Z",
     "shell.execute_reply.started": "2021-05-25T04:44:34.827234Z"
    },
    "jupyter": {
     "outputs_hidden": false
    }
   },
   "outputs": [],
   "source": [
    "# Split data into Train and Test sets\n",
    "X_train, X_test, y_train, y_test = train_test_split(X, y, test_size=0.3)"
   ]
  },
  {
   "cell_type": "code",
   "execution_count": null,
   "metadata": {
    "execution": {
     "iopub.execute_input": "2021-05-25T04:59:29.349045Z",
     "iopub.status.busy": "2021-05-25T04:59:29.348716Z"
    }
   },
   "outputs": [],
   "source": [
    "model_svc = SVC()\n",
    "model_svc.fit(X_train, y_train)\n",
    "# y_pred = model.predict(X_test)\n",
    "\n",
    "# This is taking to long to run."
   ]
  },
  {
   "cell_type": "code",
   "execution_count": null,
   "metadata": {
    "execution": {
     "iopub.execute_input": "2021-05-25T04:47:28.622222Z",
     "iopub.status.busy": "2021-05-25T04:47:28.621887Z",
     "iopub.status.idle": "2021-05-25T04:47:28.626658Z",
     "shell.execute_reply": "2021-05-25T04:47:28.625803Z",
     "shell.execute_reply.started": "2021-05-25T04:47:28.622193Z"
    }
   },
   "outputs": [],
   "source": [
    "# Trying out to run SVC\n",
    "small_X_train = X_train.iloc[:1000, :]\n",
    "small_X_test = X_test.iloc[:1000, :]\n",
    "small_y_train = y_train.iloc[:1000]\n",
    "small_y_test = y_test.iloc[:1000]"
   ]
  },
  {
   "cell_type": "code",
   "execution_count": null,
   "metadata": {
    "_cell_guid": "a4dcc089-fa12-4c40-9bf7-86f01f620466",
    "_uuid": "10608f95-d423-452d-aa51-2706f03f191c",
    "execution": {
     "iopub.execute_input": "2021-05-25T04:47:30.874978Z",
     "iopub.status.busy": "2021-05-25T04:47:30.874651Z",
     "iopub.status.idle": "2021-05-25T04:47:30.953758Z",
     "shell.execute_reply": "2021-05-25T04:47:30.952728Z",
     "shell.execute_reply.started": "2021-05-25T04:47:30.874946Z"
    },
    "jupyter": {
     "outputs_hidden": false
    }
   },
   "outputs": [],
   "source": [
    "model_svc = SVC()\n",
    "model_svc.fit(small_X_train, small_y_train)"
   ]
  },
  {
   "cell_type": "code",
   "execution_count": null,
   "metadata": {
    "execution": {
     "iopub.execute_input": "2021-05-25T04:50:30.442472Z",
     "iopub.status.busy": "2021-05-25T04:50:30.442029Z",
     "iopub.status.idle": "2021-05-25T04:50:30.545609Z",
     "shell.execute_reply": "2021-05-25T04:50:30.544952Z",
     "shell.execute_reply.started": "2021-05-25T04:50:30.442439Z"
    }
   },
   "outputs": [],
   "source": [
    "accuracy = model_svc.score(small_X_test, small_y_test)\n",
    "accuracy"
   ]
  },
  {
   "cell_type": "markdown",
   "metadata": {},
   "source": [
    "Running fine. Need to understand how can we run the model for the whole dataset."
   ]
  },
  {
   "cell_type": "code",
   "execution_count": null,
   "metadata": {
    "_cell_guid": "dd57fd5a-8d3c-4fac-88d9-b7abc531a4bd",
    "_uuid": "9e26e9de-02b9-4f37-9e21-73f1e0134636",
    "execution": {
     "iopub.execute_input": "2021-05-25T04:06:30.260206Z",
     "iopub.status.busy": "2021-05-25T04:06:30.259616Z"
    },
    "jupyter": {
     "outputs_hidden": false
    }
   },
   "outputs": [],
   "source": []
  }
 ],
 "metadata": {
  "kernelspec": {
   "display_name": "Python 3",
   "language": "python",
   "name": "python3"
  },
  "language_info": {
   "codemirror_mode": {
    "name": "ipython",
    "version": 3
   },
   "file_extension": ".py",
   "mimetype": "text/x-python",
   "name": "python",
   "nbconvert_exporter": "python",
   "pygments_lexer": "ipython3",
   "version": "3.7.3"
  }
 },
 "nbformat": 4,
 "nbformat_minor": 4
}
